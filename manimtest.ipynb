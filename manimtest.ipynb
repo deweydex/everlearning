{
  "nbformat": 4,
  "nbformat_minor": 0,
  "metadata": {
    "colab": {
      "name": "manimtest.ipynb",
      "provenance": [],
      "authorship_tag": "ABX9TyPeODtDbnNPH98luEHSB2JK",
      "include_colab_link": true
    },
    "kernelspec": {
      "name": "python3",
      "display_name": "Python 3"
    },
    "language_info": {
      "name": "python"
    }
  },
  "cells": [
    {
      "cell_type": "markdown",
      "metadata": {
        "id": "view-in-github",
        "colab_type": "text"
      },
      "source": [
        "<a href=\"https://colab.research.google.com/github/deweydex/everlearning/blob/main/manimtest.ipynb\" target=\"_parent\"><img src=\"https://colab.research.google.com/assets/colab-badge.svg\" alt=\"Open In Colab\"/></a>"
      ]
    },
    {
      "cell_type": "code",
      "source": [
        "%%capture\n",
        "!sudo apt update\n",
        "!sudo apt install libcairo2-dev ffmpeg \\\n",
        "    texlive texlive-latex-extra texlive-fonts-extra \\\n",
        "    texlive-latex-recommended texlive-science \\\n",
        "    tipa libpango1.0-dev\n",
        "!pip install manim\n",
        "!pip install IPython --upgrade\n"
      ],
      "metadata": {
        "id": "87FcWbcmiJ7C"
      },
      "execution_count": 1,
      "outputs": []
    },
    {
      "cell_type": "code",
      "source": [
        "\n",
        "from manimlib import *"
      ],
      "metadata": {
        "id": "B0nGOKXDU-sI"
      },
      "execution_count": 2,
      "outputs": []
    },
    {
      "cell_type": "code",
      "source": [
        "%%manim -qm -v WARNING OpeningManim\n",
        "\n",
        "class OpeningManim(Scene):\n",
        "    def construct(self):\n",
        "        title = Tex(r\"This is some \\LaTeX\")\n",
        "        basel = MathTex(r\"\\sum_{n=1}^\\infty \\frac{1}{n^2} = \\frac{\\pi^2}{6}\")\n",
        "        VGroup(title, basel).arrange(DOWN)\n",
        "        self.play(\n",
        "            Write(title),\n",
        "            FadeIn(basel, shift=DOWN),\n",
        "        )\n",
        "        self.wait()\n",
        "\n",
        "        transform_title = Tex(\"That was a transform\")\n",
        "        transform_title.to_corner(UP + LEFT)\n",
        "        self.play(\n",
        "            Transform(title, transform_title),\n",
        "            LaggedStart(*(FadeOut(obj, shift=DOWN) for obj in basel)),\n",
        "        )\n",
        "        self.wait()\n",
        "\n",
        "        grid = NumberPlane()\n",
        "        grid_title = Tex(\"This is a grid\", font_size=72)\n",
        "        grid_title.move_to(transform_title)\n",
        "\n",
        "        self.add(grid, grid_title)  # Make sure title is on top of grid\n",
        "        self.play(\n",
        "            FadeOut(title),\n",
        "            FadeIn(grid_title, shift=UP),\n",
        "            Create(grid, run_time=3, lag_ratio=0.1),\n",
        "        )\n",
        "        self.wait()\n",
        "\n",
        "        grid_transform_title = Tex(\n",
        "            r\"That was a non-linear function \\\\ applied to the grid\",\n",
        "        )\n",
        "        grid_transform_title.move_to(grid_title, UL)\n",
        "        grid.prepare_for_nonlinear_transform()\n",
        "        self.play(\n",
        "            grid.animate.apply_function(\n",
        "                lambda p: p\n",
        "                + np.array(\n",
        "                    [\n",
        "                        np.sin(p[1]),\n",
        "                        np.sin(p[0]),\n",
        "                        0,\n",
        "                    ],\n",
        "                ),\n",
        "            ),\n",
        "            run_time=3,\n",
        "        )\n",
        "        self.wait()\n",
        "        self.play(Transform(grid_title, grid_transform_title))\n",
        "        self.wait()\n",
        "\n"
      ],
      "metadata": {
        "id": "DNEItqWBhxUO",
        "colab": {
          "base_uri": "https://localhost:8080/"
        },
        "outputId": "27664775-54bc-4746-b8b5-869a39fb0384"
      },
      "execution_count": 3,
      "outputs": [
        {
          "output_type": "stream",
          "name": "stderr",
          "text": [
            "UsageError: Cell magic `%%manim` not found.\n"
          ]
        }
      ]
    },
    {
      "cell_type": "code",
      "source": [
        "%%manim -qm -v WARNING GridScale\n",
        "\n",
        "class GridScale(Scene):\n",
        "    def construct(self):\n",
        "        \n",
        "        grid = NumberPlane()\n",
        "        grid_title = Tex(\"This is a grid\", font_size=72)\n",
        "\n",
        "        self.add(grid, grid_title)  # Make sure title is on top of grid\n",
        "        self.play(\n",
        "            FadeIn(grid_title, shift=UP),\n",
        "            Create(grid, run_time=4, lag_ratio=0.1),\n",
        "        )\n",
        "        self.wait()\n",
        "\n",
        "        grid_transform_title = Tex(\n",
        "            r\"That was a linear function \\\\ applied to the grid\",\n",
        "        )\n",
        "        grid_transform_title.move_to(grid_title, UL)\n",
        "        grid.prepare_for_nonlinear_transform()\n",
        "        self.play(\n",
        "            grid.animate.apply_function(lambda p: p @ np.array([[1,-2,0],[3,1,0],[0,0,0]]) ), run_time=4,\n",
        "        )\n",
        "        self.wait()\n",
        "        self.play(Transform(grid_title, grid_transform_title))\n",
        "        self.wait()\n",
        "\n"
      ],
      "metadata": {
        "id": "Hc58Yh6gnZTj",
        "colab": {
          "base_uri": "https://localhost:8080/"
        },
        "outputId": "8d75661e-97b1-4669-f7ca-88b9e4ba5dcc"
      },
      "execution_count": 4,
      "outputs": [
        {
          "output_type": "stream",
          "name": "stderr",
          "text": [
            "UsageError: Cell magic `%%manim` not found.\n"
          ]
        }
      ]
    },
    {
      "cell_type": "code",
      "source": [
        "%%manim -qm -v WARNING GridScale2\n",
        "#q = np.array([[2,0,0],[2,1,0],[0,0,0]])\n",
        "q1 = np.array([[-1,0,0],[0,1,0],[0,0,0]])\n",
        "q2 = np.array([[1,0,0],[0,-1,0],[0,0,0]]) # this represents i so should rotate 90 degrees counter clockwise\n",
        "class GridScale2(Scene):\n",
        "    def construct(self):\n",
        "        \n",
        "        grid = NumberPlane()\n",
        "        grid_title = Tex(\"This is a grid\", font_size=72)\n",
        "\n",
        "        self.add(grid, grid_title)  # Make sure title is on top of grid\n",
        "        \n",
        "        grid_transform_title = Tex(\n",
        "            r\"That was a linear function \\\\ applied to the grid\",\n",
        "        )\n",
        "        #grid.prepare_for_nonlinear_transform()\n",
        "        self.play(\n",
        "            grid.animate.apply_function(lambda p:  p@ q1.T ), run_time=3,\n",
        "        )\n",
        "        self.wait()\n",
        "        self.play(\n",
        "            grid.animate.apply_function(lambda p:  p@ q2.T ), run_time=3,\n",
        "        )\n",
        "        self.wait()\n",
        "        self.play(Transform(grid_title, grid_transform_title))\n",
        "        self.wait()\n",
        "\n"
      ],
      "metadata": {
        "id": "LdIKPZj0r5PU",
        "colab": {
          "base_uri": "https://localhost:8080/"
        },
        "outputId": "b4b15008-bec7-4606-c3bd-54a999dfcaa6"
      },
      "execution_count": 5,
      "outputs": [
        {
          "output_type": "stream",
          "name": "stderr",
          "text": [
            "UsageError: Cell magic `%%manim` not found.\n"
          ]
        }
      ]
    },
    {
      "cell_type": "code",
      "source": [
        "%%manim -qm -v WARNING GridScale2\n",
        "#q = np.array([[2,0,0],[2,1,0],[0,0,0]])\n",
        "q1 = np.array([[-1,0,0],[0,1,0],[0,0,0]])\n",
        "q2 = np.array([[1,0,0],[0,-1,0],[0,0,0]]) # this represents i so should rotate 90 degrees counter clockwise\n",
        "\n",
        "class HelloWorld(Scene):\n",
        "    def construct(self):\n",
        "        text = Text(\"Hello world\", font_size=144)\n",
        "        self.add(text)\n",
        "        points = text.generate_points()\n",
        "        for p in points: self.add(Dot(p))\n",
        "\n",
        "\n"
      ],
      "metadata": {
        "id": "pUykhe7OREIf"
      },
      "execution_count": null,
      "outputs": []
    }
  ]
}